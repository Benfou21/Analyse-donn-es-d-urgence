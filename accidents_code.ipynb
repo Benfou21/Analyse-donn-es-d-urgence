{
 "cells": [
  {
   "cell_type": "markdown",
   "metadata": {},
   "source": [
    "# Analyse des accidents sur voie publique en FRANCE"
   ]
  },
  {
   "cell_type": "markdown",
   "metadata": {},
   "source": [
    "Les données correspondes aux accidents corporels sur la circulation publique de France en 2023. Les informations ont été recueillie par les unités de forces publiques qui ont intervenues. \n",
    "\n",
    "Les données sont disponibles sous 4 fichiers : \n",
    "- caractérstiques : informations sur les caractéristiques de l'accidents  \n",
    "- lieux : informations sur le lieux de l'accidents\n",
    "- véhicules : informations sur les véhicules impliqués\n",
    "- usagers : informations sur les personnes impliqués\n",
    "\n",
    "Chaque accidents est identifier par un numéro présent dans chaque fichier."
   ]
  },
  {
   "cell_type": "markdown",
   "metadata": {},
   "source": [
    "### Objecitf : comprendre les accidents pour pouvoir cibler les futures préventions routière, travaux etc...\n",
    "\n",
    "- Classifier les accidents sous différentes catégories.\n",
    "- Déterminer les variables explicatives les plus corrélés aux accidents mortels.\n",
    "- Plan d'action pour certaines départements (dep = var expliqué)"
   ]
  },
  {
   "cell_type": "markdown",
   "metadata": {},
   "source": [
    "## Analyse exploratrice des données "
   ]
  },
  {
   "cell_type": "markdown",
   "metadata": {},
   "source": [
    "### Importation"
   ]
  },
  {
   "cell_type": "code",
   "execution_count": 280,
   "metadata": {},
   "outputs": [],
   "source": [
    "import numpy as np \n",
    "import matplotlib.pyplot as plt\n",
    "import pandas as pd\n",
    "import seaborn as sns"
   ]
  },
  {
   "cell_type": "code",
   "execution_count": 281,
   "metadata": {},
   "outputs": [
    {
     "name": "stderr",
     "output_type": "stream",
     "text": [
      "C:\\Users\\benfo\\AppData\\Local\\Temp\\ipykernel_11352\\2705059668.py:2: DtypeWarning: Columns (12) have mixed types. Specify dtype option on import or set low_memory=False.\n",
      "  lieux = pd.read_csv(\"acc_routes/lieux-2023.csv\",sep=\";\")\n"
     ]
    }
   ],
   "source": [
    "caract = pd.read_csv(\"acc_routes/caract-2023.csv\", sep=\";\")\n",
    "lieux = pd.read_csv(\"acc_routes/lieux-2023.csv\",sep=\";\")\n",
    "usagers = pd.read_csv(\"acc_routes/usagers-2023.csv\",sep=\";\")\n",
    "vehicules = pd.read_csv(\"acc_routes/vehicules-2023.csv\",sep=\";\")"
   ]
  },
  {
   "cell_type": "markdown",
   "metadata": {},
   "source": [
    "On vérifie la taille des ensembles"
   ]
  },
  {
   "cell_type": "code",
   "execution_count": 282,
   "metadata": {},
   "outputs": [
    {
     "name": "stdout",
     "output_type": "stream",
     "text": [
      "(54822, 15)\n",
      "(70860, 18)\n",
      "(125789, 16)\n",
      "(93585, 11)\n"
     ]
    }
   ],
   "source": [
    "print(caract.shape)\n",
    "print(lieux.shape)\n",
    "print(usagers.shape)\n",
    "print(vehicules.shape)"
   ]
  },
  {
   "cell_type": "markdown",
   "metadata": {},
   "source": [
    "-> On remarque que les ensembles ont des tailles différentes. On explique cela par la dublication d'enregistrements si l'accident concerne plusieurs lieux,véhicules et personnes."
   ]
  },
  {
   "cell_type": "markdown",
   "metadata": {},
   "source": [
    "----"
   ]
  },
  {
   "cell_type": "markdown",
   "metadata": {},
   "source": [
    "### Pré-traitement "
   ]
  },
  {
   "cell_type": "markdown",
   "metadata": {},
   "source": [
    "On va s'intérresser à chaque variables qui peuvent être utiles dans notre analyse.\n"
   ]
  },
  {
   "cell_type": "markdown",
   "metadata": {},
   "source": [
    "#### CARACTERISTIQUE : \n",
    "\n",
    "On souhaite garder : jour, mois, an, hrmn, lum, agg, int, atm, col, dep"
   ]
  },
  {
   "cell_type": "code",
   "execution_count": 283,
   "metadata": {},
   "outputs": [],
   "source": [
    "caract = caract.drop(columns=[\"adr\",'lat','long','com'])"
   ]
  },
  {
   "cell_type": "markdown",
   "metadata": {},
   "source": [
    "Valeurs dupliqués "
   ]
  },
  {
   "cell_type": "code",
   "execution_count": 284,
   "metadata": {},
   "outputs": [
    {
     "data": {
      "text/plain": [
       "False    54822\n",
       "Name: count, dtype: int64"
      ]
     },
     "execution_count": 284,
     "metadata": {},
     "output_type": "execute_result"
    }
   ],
   "source": [
    "caract.duplicated().value_counts()"
   ]
  },
  {
   "cell_type": "markdown",
   "metadata": {},
   "source": [
    "Il y en a aucune"
   ]
  },
  {
   "cell_type": "markdown",
   "metadata": {},
   "source": [
    "Types des données"
   ]
  },
  {
   "cell_type": "code",
   "execution_count": 285,
   "metadata": {},
   "outputs": [
    {
     "data": {
      "text/plain": [
       "Num_Acc     int64\n",
       "jour        int64\n",
       "mois        int64\n",
       "an          int64\n",
       "hrmn       object\n",
       "lum         int64\n",
       "dep        object\n",
       "agg         int64\n",
       "int         int64\n",
       "atm         int64\n",
       "col         int64\n",
       "dtype: object"
      ]
     },
     "execution_count": 285,
     "metadata": {},
     "output_type": "execute_result"
    }
   ],
   "source": [
    "caract.dtypes"
   ]
  },
  {
   "cell_type": "markdown",
   "metadata": {},
   "source": [
    "Il y a deux types object"
   ]
  },
  {
   "cell_type": "markdown",
   "metadata": {},
   "source": [
    "On va regrouper les quatres variables : hrmn, jour, mois et an en 1 datetime. Cela va nous permettre de facilement accéder à toutes les infos"
   ]
  },
  {
   "cell_type": "code",
   "execution_count": 286,
   "metadata": {},
   "outputs": [],
   "source": [
    "caract[\"datetime\"] = pd.to_datetime(\n",
    "    caract['an'].astype(str) + '-' +\n",
    "    caract['mois'].astype(str) + '-' +\n",
    "    caract['jour'].astype(str) + ' ' +\n",
    "    caract['hrmn'])"
   ]
  },
  {
   "cell_type": "code",
   "execution_count": 287,
   "metadata": {},
   "outputs": [
    {
     "data": {
      "text/plain": [
       "6"
      ]
     },
     "execution_count": 287,
     "metadata": {},
     "output_type": "execute_result"
    }
   ],
   "source": [
    "caract[\"datetime\"][0].hour"
   ]
  },
  {
   "cell_type": "code",
   "execution_count": 288,
   "metadata": {},
   "outputs": [],
   "source": [
    "caract = caract.drop(columns=[\"hrmn\",\"an\",\"mois\",'jour'])"
   ]
  },
  {
   "cell_type": "markdown",
   "metadata": {},
   "source": [
    "On va convertir les départements avec caractères en entier"
   ]
  },
  {
   "cell_type": "code",
   "execution_count": 289,
   "metadata": {},
   "outputs": [
    {
     "data": {
      "text/plain": [
       "array(['2B', '2A'], dtype=object)"
      ]
     },
     "execution_count": 289,
     "metadata": {},
     "output_type": "execute_result"
    }
   ],
   "source": [
    "valeurs_problemes = caract.loc[~caract[\"dep\"].str.isnumeric(), \"dep\"].unique()\n",
    "valeurs_problemes"
   ]
  },
  {
   "cell_type": "markdown",
   "metadata": {},
   "source": [
    "Les départements de corse possèdent des caractères, on va les traîter spécifiquement"
   ]
  },
  {
   "cell_type": "code",
   "execution_count": 290,
   "metadata": {},
   "outputs": [],
   "source": [
    "caract[\"dep\"] = caract[ \"dep\"].replace({\"2B\": \"222\", \"2A\": \"221\"}).apply(pd.to_numeric, errors='coerce')"
   ]
  },
  {
   "cell_type": "markdown",
   "metadata": {},
   "source": [
    "Vérification"
   ]
  },
  {
   "cell_type": "code",
   "execution_count": 291,
   "metadata": {},
   "outputs": [
    {
     "data": {
      "text/plain": [
       "Num_Acc              int64\n",
       "lum                  int64\n",
       "dep                  int64\n",
       "agg                  int64\n",
       "int                  int64\n",
       "atm                  int64\n",
       "col                  int64\n",
       "datetime    datetime64[ns]\n",
       "dtype: object"
      ]
     },
     "execution_count": 291,
     "metadata": {},
     "output_type": "execute_result"
    }
   ],
   "source": [
    "caract.dtypes"
   ]
  },
  {
   "cell_type": "markdown",
   "metadata": {},
   "source": [
    "Valeurs manquantes"
   ]
  },
  {
   "cell_type": "code",
   "execution_count": 292,
   "metadata": {},
   "outputs": [
    {
     "name": "stdout",
     "output_type": "stream",
     "text": [
      "Num_Acc     0\n",
      "lum         0\n",
      "dep         0\n",
      "agg         0\n",
      "int         0\n",
      "atm         0\n",
      "col         0\n",
      "datetime    0\n",
      "dtype: int64\n"
     ]
    }
   ],
   "source": [
    "print(caract.isna().sum())"
   ]
  },
  {
   "cell_type": "markdown",
   "metadata": {},
   "source": [
    "Autres valeurs manquantes, indiqué par -1 (non renseigné)"
   ]
  },
  {
   "cell_type": "code",
   "execution_count": 293,
   "metadata": {},
   "outputs": [
    {
     "name": "stdout",
     "output_type": "stream",
     "text": [
      "13\n",
      "4\n"
     ]
    }
   ],
   "source": [
    "print((caract[\"col\"]== -1).sum())\n",
    "print((caract[\"atm\"]== -1).sum())"
   ]
  },
  {
   "cell_type": "code",
   "execution_count": 294,
   "metadata": {},
   "outputs": [],
   "source": [
    "def remplacer_mediane(df,cols):\n",
    "    for col in cols:\n",
    "        m_value = df[col].median()\n",
    "        df[col] = df[col].fillna(int(m_value))\n",
    "        df[col] = df[col].replace({-1:int(m_value)})\n",
    "    return df"
   ]
  },
  {
   "cell_type": "markdown",
   "metadata": {},
   "source": [
    "#### LIEUX :\n",
    "\n",
    "On souhaite garder : catr, circ, nbv, prof, plan, lartpc, larrrout, surf, infra, situ ,vma"
   ]
  },
  {
   "cell_type": "code",
   "execution_count": 296,
   "metadata": {},
   "outputs": [],
   "source": [
    "lieux = lieux.drop(columns=[\"voie\",'v1','v2','vosp','pr','pr1'])"
   ]
  },
  {
   "cell_type": "markdown",
   "metadata": {},
   "source": [
    "Types"
   ]
  },
  {
   "cell_type": "code",
   "execution_count": 297,
   "metadata": {},
   "outputs": [
    {
     "data": {
      "text/plain": [
       "Num_Acc     int64\n",
       "catr        int64\n",
       "circ        int64\n",
       "nbv        object\n",
       "prof        int64\n",
       "plan        int64\n",
       "lartpc     object\n",
       "larrout    object\n",
       "surf        int64\n",
       "infra       int64\n",
       "situ        int64\n",
       "vma         int64\n",
       "dtype: object"
      ]
     },
     "execution_count": 297,
     "metadata": {},
     "output_type": "execute_result"
    }
   ],
   "source": [
    "lieux.dtypes"
   ]
  },
  {
   "cell_type": "markdown",
   "metadata": {},
   "source": [
    "Il y a trois types en object"
   ]
  },
  {
   "cell_type": "code",
   "execution_count": 298,
   "metadata": {},
   "outputs": [
    {
     "data": {
      "text/plain": [
       "array([' -1', '#VALEURMULTI'], dtype=object)"
      ]
     },
     "execution_count": 298,
     "metadata": {},
     "output_type": "execute_result"
    }
   ],
   "source": [
    "valeurs_problemes = lieux.loc[~lieux[\"nbv\"].str.isnumeric(), \"nbv\"].unique()\n",
    "valeurs_problemes"
   ]
  },
  {
   "cell_type": "code",
   "execution_count": 299,
   "metadata": {},
   "outputs": [],
   "source": [
    "lieux[[\"lartpc\", \"larrout\", \"nbv\"]] = lieux[[\"lartpc\", \"larrout\", \"nbv\"]].apply(lambda x: x.str.replace(',', '.'))\n",
    "lieux[[\"lartpc\", \"larrout\", \"nbv\"]] = lieux[[\"lartpc\", \"larrout\", \"nbv\"]].apply(pd.to_numeric, errors='coerce')\n"
   ]
  },
  {
   "cell_type": "markdown",
   "metadata": {},
   "source": [
    "Valeurs manquantes"
   ]
  },
  {
   "cell_type": "code",
   "execution_count": 300,
   "metadata": {},
   "outputs": [
    {
     "name": "stdout",
     "output_type": "stream",
     "text": [
      "Num_Acc        0\n",
      "catr           0\n",
      "circ           0\n",
      "nbv           54\n",
      "prof           0\n",
      "plan           0\n",
      "lartpc     70831\n",
      "larrout        0\n",
      "surf           0\n",
      "infra          0\n",
      "situ           0\n",
      "vma            0\n",
      "dtype: int64\n"
     ]
    }
   ],
   "source": [
    "print(lieux.isna().sum())"
   ]
  },
  {
   "cell_type": "markdown",
   "metadata": {},
   "source": [
    "Autres valeurs manquantes, indiqué par -1 (non renseigné)"
   ]
  },
  {
   "cell_type": "code",
   "execution_count": 301,
   "metadata": {},
   "outputs": [
    {
     "name": "stdout",
     "output_type": "stream",
     "text": [
      "211\n",
      "208\n",
      "923\n",
      "198\n",
      "5021\n",
      "164\n"
     ]
    }
   ],
   "source": [
    "print((lieux[\"prof\"]== -1).sum())\n",
    "print((lieux[\"surf\"]== -1).sum())\n",
    "print((lieux[\"infra\"]== -1).sum())\n",
    "print((lieux[\"situ\"]== -1).sum())\n",
    "print((lieux[\"circ\"]== -1).sum())\n",
    "print((lieux[\"plan\"]== -1).sum())"
   ]
  },
  {
   "cell_type": "markdown",
   "metadata": {},
   "source": [
    "La majorité des variable ont très peu de valeurs manquantes."
   ]
  },
  {
   "cell_type": "markdown",
   "metadata": {},
   "source": [
    "On va supprimer la colonnes lartpc car elles possèdent trop de valeurs manquantes"
   ]
  },
  {
   "cell_type": "code",
   "execution_count": 303,
   "metadata": {},
   "outputs": [],
   "source": [
    "lieux = lieux.drop(columns=[\"lartpc\"])"
   ]
  },
  {
   "cell_type": "markdown",
   "metadata": {},
   "source": [
    "#### VÉHICULES :\n",
    "\n",
    "On veut garder les variables : catv, obs, obsm, choc, manv, motor, occutc, id_vehicule"
   ]
  },
  {
   "cell_type": "code",
   "execution_count": 304,
   "metadata": {},
   "outputs": [],
   "source": [
    "vehicules = vehicules.drop(columns=[\"senc\",\"num_veh\"])"
   ]
  },
  {
   "cell_type": "markdown",
   "metadata": {},
   "source": [
    "Types"
   ]
  },
  {
   "cell_type": "code",
   "execution_count": 305,
   "metadata": {},
   "outputs": [
    {
     "data": {
      "text/plain": [
       "Num_Acc          int64\n",
       "id_vehicule     object\n",
       "catv             int64\n",
       "obs              int64\n",
       "obsm             int64\n",
       "choc             int64\n",
       "manv             int64\n",
       "motor            int64\n",
       "occutc         float64\n",
       "dtype: object"
      ]
     },
     "execution_count": 305,
     "metadata": {},
     "output_type": "execute_result"
    }
   ],
   "source": [
    "vehicules.dtypes"
   ]
  },
  {
   "cell_type": "markdown",
   "metadata": {},
   "source": [
    "Valeurs manquantes"
   ]
  },
  {
   "cell_type": "code",
   "execution_count": 306,
   "metadata": {},
   "outputs": [
    {
     "data": {
      "text/plain": [
       "Num_Acc            0\n",
       "id_vehicule        0\n",
       "catv               0\n",
       "obs                0\n",
       "obsm               0\n",
       "choc               0\n",
       "manv               0\n",
       "motor              0\n",
       "occutc         92747\n",
       "dtype: int64"
      ]
     },
     "execution_count": 306,
     "metadata": {},
     "output_type": "execute_result"
    }
   ],
   "source": [
    "vehicules.isna().sum()"
   ]
  },
  {
   "cell_type": "markdown",
   "metadata": {},
   "source": [
    "Autres"
   ]
  },
  {
   "cell_type": "code",
   "execution_count": 307,
   "metadata": {},
   "outputs": [
    {
     "name": "stdout",
     "output_type": "stream",
     "text": [
      "57\n",
      "46\n",
      "58\n",
      "37\n",
      "181\n"
     ]
    }
   ],
   "source": [
    "print((vehicules[\"obs\"] == -1).sum())\n",
    "print((vehicules[\"obsm\"] == -1).sum())\n",
    "print((vehicules[\"choc\"] == -1).sum())\n",
    "print((vehicules[\"manv\"] == -1).sum())\n",
    "print((vehicules[\"motor\"] == -1).sum())\n"
   ]
  },
  {
   "cell_type": "markdown",
   "metadata": {},
   "source": [
    "On supprime la colonnes occutc qui possède trop de valeurs manquantes."
   ]
  },
  {
   "cell_type": "code",
   "execution_count": 318,
   "metadata": {},
   "outputs": [],
   "source": [
    "vehicules = vehicules.drop(columns=[\"occutc\"])"
   ]
  },
  {
   "cell_type": "markdown",
   "metadata": {},
   "source": [
    "#### USAGERS :\n",
    "\n",
    "On souhaite garder les variables : id_usagers, id_vehicule, place, catu, grav, sexe, an_nais, trajet, secu1, secu2, secu3, locp, actp, etatp"
   ]
  },
  {
   "cell_type": "code",
   "execution_count": 309,
   "metadata": {},
   "outputs": [],
   "source": [
    "usagers = usagers.drop(columns=[\"num_veh\"])"
   ]
  },
  {
   "cell_type": "markdown",
   "metadata": {},
   "source": [
    "Types"
   ]
  },
  {
   "cell_type": "code",
   "execution_count": 310,
   "metadata": {},
   "outputs": [
    {
     "data": {
      "text/plain": [
       "Num_Acc          int64\n",
       "id_usager       object\n",
       "id_vehicule     object\n",
       "place            int64\n",
       "catu             int64\n",
       "grav             int64\n",
       "sexe             int64\n",
       "an_nais        float64\n",
       "trajet           int64\n",
       "secu1            int64\n",
       "secu2            int64\n",
       "secu3            int64\n",
       "locp             int64\n",
       "actp            object\n",
       "etatp            int64\n",
       "dtype: object"
      ]
     },
     "execution_count": 310,
     "metadata": {},
     "output_type": "execute_result"
    }
   ],
   "source": [
    "usagers.dtypes"
   ]
  },
  {
   "cell_type": "markdown",
   "metadata": {},
   "source": [
    "Valeurs problématique de actp :\n",
    "\n",
    "9 – Autre  \n",
    "A – Monte/descend du véhicule  \n",
    "B – Inconnue "
   ]
  },
  {
   "cell_type": "code",
   "execution_count": 311,
   "metadata": {},
   "outputs": [],
   "source": [
    "usagers[\"actp\"] =  usagers[\"actp\"].replace({\"A\": \"10\", \"B\": \"9\"}).apply(pd.to_numeric)"
   ]
  },
  {
   "cell_type": "markdown",
   "metadata": {},
   "source": [
    "Valeurs manquantes"
   ]
  },
  {
   "cell_type": "code",
   "execution_count": 312,
   "metadata": {},
   "outputs": [
    {
     "data": {
      "text/plain": [
       "Num_Acc           0\n",
       "id_usager         0\n",
       "id_vehicule       0\n",
       "place             0\n",
       "catu              0\n",
       "grav              0\n",
       "sexe              0\n",
       "an_nais        2598\n",
       "trajet            0\n",
       "secu1             0\n",
       "secu2             0\n",
       "secu3             0\n",
       "locp              0\n",
       "actp              0\n",
       "etatp             0\n",
       "dtype: int64"
      ]
     },
     "execution_count": 312,
     "metadata": {},
     "output_type": "execute_result"
    }
   ],
   "source": [
    "usagers.isna().sum()"
   ]
  },
  {
   "cell_type": "code",
   "execution_count": 320,
   "metadata": {},
   "outputs": [
    {
     "data": {
      "text/plain": [
       "1886835"
      ]
     },
     "execution_count": 320,
     "metadata": {},
     "output_type": "execute_result"
    }
   ],
   "source": [
    "usagers.size"
   ]
  },
  {
   "cell_type": "code",
   "execution_count": 313,
   "metadata": {},
   "outputs": [
    {
     "name": "stdout",
     "output_type": "stream",
     "text": [
      "2499\n",
      "33303\n",
      "2292\n",
      "55419\n",
      "123392\n",
      "63253\n",
      "63330\n",
      "115690\n"
     ]
    }
   ],
   "source": [
    "print((usagers[\"trajet\"] == -1).sum())\n",
    "print((usagers[\"trajet\"] == 0).sum())\n",
    "print((usagers[\"secu1\"] == -1).sum())\n",
    "print((usagers[\"secu2\"] == -1).sum())\n",
    "print((usagers[\"secu3\"] == -1).sum())\n",
    "print((usagers[\"actp\"] == -1).sum())\n",
    "print((usagers[\"locp\"] == -1).sum())\n",
    "print((usagers[\"etatp\"] == -1).sum())"
   ]
  },
  {
   "cell_type": "markdown",
   "metadata": {},
   "source": [
    "On supprime les colonnes avec beaucoup de variables manquantes"
   ]
  },
  {
   "cell_type": "code",
   "execution_count": 321,
   "metadata": {},
   "outputs": [],
   "source": [
    "usagers = usagers.drop(columns=[\"secu3\",\"secu2\",\"etatp\"])"
   ]
  },
  {
   "cell_type": "markdown",
   "metadata": {},
   "source": [
    "#### Explorations des accidents en france\n",
    "\n",
    "- Le nombre \n",
    "- Pourcentage de gravité \n",
    "- L'heure/jour avec le plus d'accident"
   ]
  },
  {
   "cell_type": "code",
   "execution_count": null,
   "metadata": {},
   "outputs": [],
   "source": []
  },
  {
   "cell_type": "markdown",
   "metadata": {},
   "source": [
    "#### Explorations des accidents par departement \n",
    "\n",
    "- nb par departement\n",
    "- pourcentage de gravité"
   ]
  },
  {
   "cell_type": "markdown",
   "metadata": {},
   "source": []
  }
 ],
 "metadata": {
  "kernelspec": {
   "display_name": "Python 3",
   "language": "python",
   "name": "python3"
  },
  "language_info": {
   "codemirror_mode": {
    "name": "ipython",
    "version": 3
   },
   "file_extension": ".py",
   "mimetype": "text/x-python",
   "name": "python",
   "nbconvert_exporter": "python",
   "pygments_lexer": "ipython3",
   "version": "3.11.3"
  }
 },
 "nbformat": 4,
 "nbformat_minor": 2
}
