{
 "cells": [
  {
   "cell_type": "markdown",
   "metadata": {},
   "source": [
    "# Analyse des accidents sur voie publique en FRANCE"
   ]
  },
  {
   "cell_type": "markdown",
   "metadata": {},
   "source": [
    "Les données correspondes aux accidents corporels sur la circulation publique de France en 2023. Les informations ont été recueillie par les unités de forces publiques qui ont intervenues. \n",
    "\n",
    "Les données sont disponibles sous 4 fichiers : \n",
    "- caractérstiques : informations sur les caractéristiques de l'accidents  \n",
    "- lieux : informations sur le lieux de l'accidents\n",
    "- véhicules : informations sur les véhicules impliqués\n",
    "- usagers : informations sur les personnes impliqués\n",
    "\n",
    "Chaque accidents est identifier par un numéro présent dans chaque fichier."
   ]
  },
  {
   "cell_type": "markdown",
   "metadata": {},
   "source": [
    "### Objecitf : \n",
    "\n",
    "- Classifier les accidents sous différentes catégories pour pouvoir cibler les futures préventions routière, travaux etc..."
   ]
  },
  {
   "cell_type": "markdown",
   "metadata": {},
   "source": [
    "## Analyse exploratrice des données "
   ]
  },
  {
   "cell_type": "markdown",
   "metadata": {},
   "source": [
    "#### Importation"
   ]
  },
  {
   "cell_type": "code",
   "execution_count": 2,
   "metadata": {},
   "outputs": [],
   "source": [
    "import numpy as np \n",
    "import matplotlib.pyplot as plt\n",
    "import pandas as pd\n",
    "import seaborn as sns"
   ]
  },
  {
   "cell_type": "code",
   "execution_count": 5,
   "metadata": {},
   "outputs": [
    {
     "name": "stderr",
     "output_type": "stream",
     "text": [
      "C:\\Users\\benfo\\AppData\\Local\\Temp\\ipykernel_22288\\2705059668.py:2: DtypeWarning: Columns (12) have mixed types. Specify dtype option on import or set low_memory=False.\n",
      "  lieux = pd.read_csv(\"acc_routes/lieux-2023.csv\",sep=\";\")\n"
     ]
    }
   ],
   "source": [
    "caract = pd.read_csv(\"acc_routes/caract-2023.csv\", sep=\";\")\n",
    "lieux = pd.read_csv(\"acc_routes/lieux-2023.csv\",sep=\";\")\n",
    "usagers = pd.read_csv(\"acc_routes/usagers-2023.csv\",sep=\";\")\n",
    "vehicules = pd.read_csv(\"acc_routes/vehicules-2023.csv\",sep=\";\")"
   ]
  },
  {
   "cell_type": "markdown",
   "metadata": {},
   "source": [
    "On vérifie la taille des ensembles"
   ]
  },
  {
   "cell_type": "code",
   "execution_count": 9,
   "metadata": {},
   "outputs": [
    {
     "name": "stdout",
     "output_type": "stream",
     "text": [
      "(54822, 15)\n",
      "(70860, 18)\n",
      "(125789, 16)\n",
      "(93585, 11)\n"
     ]
    }
   ],
   "source": [
    "print(caract.shape)\n",
    "print(lieux.shape)\n",
    "print(usagers.shape)\n",
    "print(vehicules.shape)"
   ]
  },
  {
   "cell_type": "markdown",
   "metadata": {},
   "source": [
    "-> On remarque que les ensembles ont des tailles différentes. On explique cela par la dublication d'enregistrements si l'accident concerne plusieurs lieux,véhicules et personnes."
   ]
  },
  {
   "cell_type": "markdown",
   "metadata": {},
   "source": [
    "### Explorations générales "
   ]
  },
  {
   "cell_type": "code",
   "execution_count": null,
   "metadata": {},
   "outputs": [],
   "source": []
  }
 ],
 "metadata": {
  "kernelspec": {
   "display_name": "Python 3",
   "language": "python",
   "name": "python3"
  },
  "language_info": {
   "codemirror_mode": {
    "name": "ipython",
    "version": 3
   },
   "file_extension": ".py",
   "mimetype": "text/x-python",
   "name": "python",
   "nbconvert_exporter": "python",
   "pygments_lexer": "ipython3",
   "version": "3.11.3"
  }
 },
 "nbformat": 4,
 "nbformat_minor": 2
}
